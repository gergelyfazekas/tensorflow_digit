{
 "cells": [
  {
   "cell_type": "markdown",
   "id": "991325a3",
   "metadata": {},
   "source": [
    "## Handwritten Digit Classification\n",
    "#### Application of a Tensorflow sequential neural network on the MNIST dataset from Kaggle"
   ]
  },
  {
   "cell_type": "code",
   "execution_count": 1,
   "id": "fa108999",
   "metadata": {},
   "outputs": [
    {
     "name": "stderr",
     "output_type": "stream",
     "text": [
      "/Users/gergelyfazekas/miniforge3/lib/python3.10/site-packages/requests/__init__.py:102: RequestsDependencyWarning: urllib3 (1.26.11) or chardet (5.1.0)/charset_normalizer (2.0.12) doesn't match a supported version!\n",
      "  warnings.warn(\"urllib3 ({}) or chardet ({})/charset_normalizer ({}) doesn't match a supported \"\n"
     ]
    }
   ],
   "source": [
    "import tensorflow as tf\n",
    "import pandas as pd\n",
    "import numpy as np\n",
    "import matplotlib.pyplot as plt\n",
    "import random"
   ]
  },
  {
   "cell_type": "markdown",
   "id": "5511bdd5",
   "metadata": {},
   "source": [
    "### Defining functions to convert the kaggle dataset to suitable format"
   ]
  },
  {
   "cell_type": "code",
   "execution_count": 2,
   "id": "74ef7481",
   "metadata": {},
   "outputs": [],
   "source": [
    "def reverse_grayscale(df):\n",
    "    \"\"\"reverses grayscale values so that 0 is black and 255 is white\"\"\"\n",
    "    # Lambda func: \n",
    "    reverse_color = np.vectorize(lambda x: 255-x)\n",
    "    \n",
    "    # Stripping labels\n",
    "    without_label = df.iloc[:,1:]\n",
    "    \n",
    "    # Applying reverse_color row-wise\n",
    "    new_colors_df = without_label.apply(reverse_color, axis=0)\n",
    "    \n",
    "    # Reassign label\n",
    "    new_colors_df['label'] = df['label']\n",
    "    \n",
    "    return new_colors_df\n",
    "\n",
    "def df_to_array(df):\n",
    "    \"\"\"turns the images' representation from pd.DataFrame to np.array\n",
    "    returns a dictionary: key = img id, value = [label, np.array]\n",
    "    \"\"\"\n",
    "    \n",
    "    def convert_to_img_array(df_row):\n",
    "        \"\"\"converts one row of df into a 28x28 np array that represents the image\"\"\"\n",
    "        # Stack rows in a list of lists\n",
    "        img_rows = []\n",
    "        for i in range(28):\n",
    "            img_rows.append(df_row.iloc[28*i:(28*i+28)])\n",
    "        # Convert to np.array\n",
    "        pic_array = np.array(img_rows)\n",
    "        return pic_array\n",
    "    \n",
    "    # Create a dictionary of images: key=id, value=(label, np.array)\n",
    "    result = dict(zip(list(df.index) , [list(item) for item in list(zip(df['label'], [None]* len(df['label'])))]))\n",
    "    \n",
    "    # Apply convert_to_img_array row_wise\n",
    "    for row in df.iterrows():\n",
    "        # iterrows returns a tuple of (index, row series) -- we need both\n",
    "        image = convert_to_img_array(row[1])\n",
    "        result[row[0]][1] = image\n",
    "        \n",
    "    return result\n",
    "\n",
    "def train_test_split(input_dict, ratio=0.8):\n",
    "    d = input_dict.copy()\n",
    "    test_size = round((1-ratio) * len(list(d.keys())))\n",
    "    test_set_keys = list(np.random.choice(list(d.keys()), size=test_size, replace=False))\n",
    "    \n",
    "    test = {}\n",
    "    for k in test_set_keys:\n",
    "        test[k] = d[k]\n",
    "        d.pop(k)\n",
    "        \n",
    "    train = d.copy()\n",
    "    \n",
    "    train_list = list(train.values())\n",
    "    test_list =list(test.values())\n",
    "    \n",
    "    y_train, X_train = [item[0] for item in train_list], [item[1] for item in train_list]\n",
    "    y_test, X_test = [item[0] for item in test_list], [item[1] for item in test_list]\n",
    "    \n",
    "    return (np.array(X_train), np.array(y_train)), (np.array(X_test), np.array(y_test))"
   ]
  },
  {
   "cell_type": "markdown",
   "id": "96fb273b",
   "metadata": {},
   "source": [
    "### 1. Loading the data"
   ]
  },
  {
   "cell_type": "code",
   "execution_count": 3,
   "id": "5f3f4ada",
   "metadata": {},
   "outputs": [],
   "source": [
    "mnist = pd.read_csv(\"train.csv\")"
   ]
  },
  {
   "cell_type": "markdown",
   "id": "6d8dc7fe",
   "metadata": {},
   "source": [
    "### 2. Preprocessing colors shapes and data types"
   ]
  },
  {
   "cell_type": "code",
   "execution_count": 6,
   "id": "e5c710c2",
   "metadata": {},
   "outputs": [],
   "source": [
    "df_reversed = reverse_grayscale(mnist)\n",
    "img_dict = df_to_array(df_reversed)\n",
    "\n",
    "# Normalize grayscale values\n",
    "for k in img_dict.keys(): \n",
    "    img_dict[k][1] = tf.keras.utils.normalize(img_dict[k][1], axis=1)"
   ]
  },
  {
   "cell_type": "markdown",
   "id": "98a535e0",
   "metadata": {},
   "source": [
    "### 3. Train-test split"
   ]
  },
  {
   "cell_type": "code",
   "execution_count": 7,
   "id": "a736083b",
   "metadata": {},
   "outputs": [],
   "source": [
    "(X_train, y_train), (X_test, y_test) = train_test_split(img_dict)"
   ]
  },
  {
   "cell_type": "markdown",
   "id": "684b4042",
   "metadata": {},
   "source": [
    "### 4. Model"
   ]
  },
  {
   "cell_type": "code",
   "execution_count": 8,
   "id": "39e59185",
   "metadata": {},
   "outputs": [
    {
     "name": "stdout",
     "output_type": "stream",
     "text": [
      "Metal device set to: Apple M1\n"
     ]
    },
    {
     "name": "stderr",
     "output_type": "stream",
     "text": [
      "2023-01-16 19:11:25.688612: I tensorflow/core/common_runtime/pluggable_device/pluggable_device_factory.cc:306] Could not identify NUMA node of platform GPU ID 0, defaulting to 0. Your kernel may not have been built with NUMA support.\n",
      "2023-01-16 19:11:25.689212: I tensorflow/core/common_runtime/pluggable_device/pluggable_device_factory.cc:272] Created TensorFlow device (/job:localhost/replica:0/task:0/device:GPU:0 with 0 MB memory) -> physical PluggableDevice (device: 0, name: METAL, pci bus id: <undefined>)\n"
     ]
    }
   ],
   "source": [
    "model = tf.keras.models.Sequential()\n",
    "model.add(tf.keras.layers.Flatten(input_shape=(28,28)))\n",
    "model.add(tf.keras.layers.Dense(128, activation='relu'))\n",
    "model.add(tf.keras.layers.Dense(128, activation='relu'))\n",
    "model.add(tf.keras.layers.Dense(10, activation='softmax'))\n",
    "\n",
    "model.compile(optimizer='adam', loss='sparse_categorical_crossentropy', metrics=['accuracy'])"
   ]
  },
  {
   "cell_type": "markdown",
   "id": "71fa1f34",
   "metadata": {},
   "source": [
    "### 5. Fitting and evaluating the model"
   ]
  },
  {
   "cell_type": "code",
   "execution_count": 18,
   "id": "1c2e803c",
   "metadata": {},
   "outputs": [
    {
     "name": "stdout",
     "output_type": "stream",
     "text": [
      "Epoch 1/10\n",
      "  25/1050 [..............................] - ETA: 4s - loss: 0.3359 - accuracy: 0.8900"
     ]
    },
    {
     "name": "stderr",
     "output_type": "stream",
     "text": [
      "2023-01-16 19:13:27.094676: I tensorflow/core/grappler/optimizers/custom_graph_optimizer_registry.cc:114] Plugin optimizer for device_type GPU is enabled.\n"
     ]
    },
    {
     "name": "stdout",
     "output_type": "stream",
     "text": [
      "1050/1050 [==============================] - 5s 4ms/step - loss: 0.2794 - accuracy: 0.9145\n",
      "Epoch 2/10\n",
      "1050/1050 [==============================] - 4s 4ms/step - loss: 0.2412 - accuracy: 0.9252\n",
      "Epoch 3/10\n",
      "1050/1050 [==============================] - 4s 4ms/step - loss: 0.2093 - accuracy: 0.9362\n",
      "Epoch 4/10\n",
      "1050/1050 [==============================] - 4s 4ms/step - loss: 0.1915 - accuracy: 0.9402\n",
      "Epoch 5/10\n",
      "1050/1050 [==============================] - 4s 4ms/step - loss: 0.1716 - accuracy: 0.9465\n",
      "Epoch 6/10\n",
      "1050/1050 [==============================] - 4s 4ms/step - loss: 0.1592 - accuracy: 0.9505\n",
      "Epoch 7/10\n",
      "1050/1050 [==============================] - 4s 4ms/step - loss: 0.1446 - accuracy: 0.9555\n",
      "Epoch 8/10\n",
      "1050/1050 [==============================] - 4s 4ms/step - loss: 0.1368 - accuracy: 0.9575\n",
      "Epoch 9/10\n",
      "1050/1050 [==============================] - 4s 4ms/step - loss: 0.1307 - accuracy: 0.9599\n",
      "Epoch 10/10\n",
      "1050/1050 [==============================] - 4s 4ms/step - loss: 0.1196 - accuracy: 0.9626\n",
      "INFO:tensorflow:Assets written to: handwritten_NN/assets\n"
     ]
    }
   ],
   "source": [
    "model.fit(X_train, y_train, epochs=10)\n",
    "\n",
    "model.save('handwritten_NN')"
   ]
  },
  {
   "cell_type": "code",
   "execution_count": 19,
   "id": "984456fb",
   "metadata": {},
   "outputs": [],
   "source": [
    "model = tf.keras.models.load_model('handwritten_NN')"
   ]
  },
  {
   "cell_type": "code",
   "execution_count": 20,
   "id": "0f462689",
   "metadata": {},
   "outputs": [
    {
     "name": "stdout",
     "output_type": "stream",
     "text": [
      " 27/263 [==>...........................] - ETA: 0s - loss: 0.1398 - accuracy: 0.9583"
     ]
    },
    {
     "name": "stderr",
     "output_type": "stream",
     "text": [
      "2023-01-16 19:14:17.900895: I tensorflow/core/grappler/optimizers/custom_graph_optimizer_registry.cc:114] Plugin optimizer for device_type GPU is enabled.\n"
     ]
    },
    {
     "name": "stdout",
     "output_type": "stream",
     "text": [
      "263/263 [==============================] - 1s 4ms/step - loss: 0.1236 - accuracy: 0.9635\n",
      " \n",
      "Loss:  0.124 -- Accuracy:  0.963\n"
     ]
    }
   ],
   "source": [
    "loss, accuracy = model.evaluate(X_test, y_test)\n",
    "print(\" \")\n",
    "print(\"Loss: \", round(loss,3), \"--\", \"Accuracy: \", round(accuracy,3))"
   ]
  },
  {
   "cell_type": "markdown",
   "id": "dbcf115e",
   "metadata": {},
   "source": [
    "### Testing visually"
   ]
  },
  {
   "cell_type": "code",
   "execution_count": 25,
   "id": "3c8b871e",
   "metadata": {},
   "outputs": [
    {
     "name": "stdout",
     "output_type": "stream",
     "text": [
      "1/1 [==============================] - 0s 18ms/step\n",
      " \n",
      "Number detected:  1\n"
     ]
    },
    {
     "data": {
      "image/png": "[encoded data removed]",
      "text/plain": [
       "<Figure size 640x480 with 1 Axes>"
      ]
     },
     "metadata": {},
     "output_type": "display_data"
    }
   ],
   "source": [
    "# Select and image randomly from the test set\n",
    "rand_int = np.random.randint(0,8399,1)[0]\n",
    "random_image = X_test[rand_int : rand_int+1]\n",
    "\n",
    "# Predict the class probabilities and the label\n",
    "predicted_probabilities = model.predict(random_image)\n",
    "predicted_label = np.argmax(predicted_probabilities)\n",
    "\n",
    "# Show\n",
    "plt.imshow(random_image[0], cmap=plt.cm.binary)\n",
    "print(\" \")\n",
    "print(\"Number detected: \", predicted_label)"
   ]
  }
 ],
 "metadata": {
  "kernelspec": {
   "display_name": "venv",
   "language": "python",
   "name": "venv"
  },
  "language_info": {
   "codemirror_mode": {
    "name": "ipython",
    "version": 3
   },
   "file_extension": ".py",
   "mimetype": "text/x-python",
   "name": "python",
   "nbconvert_exporter": "python",
   "pygments_lexer": "ipython3",
   "version": "3.10.6"
  }
 },
 "nbformat": 4,
 "nbformat_minor": 5
}
